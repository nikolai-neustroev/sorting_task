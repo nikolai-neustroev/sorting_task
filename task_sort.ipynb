{
 "cells": [
  {
   "cell_type": "markdown",
   "metadata": {},
   "source": [
    "# Сортировка\n",
    "\n",
    "На собеседовании я не справился с сортировкой элементов массива. Поэтому я посчитал, что необходимо немедленно восполнить этот пробел.\n",
    "\n",
    "Итак, выполним задачу сортировки, в которой требуется так разместить элементы массива, чтобы каждый элемент был меньше или равен следующему за ним."
   ]
  },
  {
   "cell_type": "code",
   "execution_count": 1,
   "metadata": {},
   "outputs": [
    {
     "data": {
      "text/plain": [
       "array([25, 39, 48, 93, 69, 41, 79, 84, 40, 23, 10, 10, 35, 73, 74, 85, 54,\n",
       "       75, 37,  5, 90, 96, 58, 59,  0, 94, 58, 34, 70, 78, 89, 55, 94, 48,\n",
       "        3, 67, 90, 52, 29, 88, 20, 37, 82, 16, 48, 37,  5, 92, 76, 43, 62,\n",
       "       83, 37, 71, 36, 53, 72, 32,  8, 58, 77, 37, 61, 97, 52, 35, 22, 97,\n",
       "       59, 58, 20, 17, 24, 55, 70, 18,  6, 20, 91, 13, 96, 74, 84, 38, 45,\n",
       "       13, 33, 76, 76, 87, 12, 56, 75, 42, 54,  9, 96, 31, 69, 86])"
      ]
     },
     "execution_count": 1,
     "metadata": {},
     "output_type": "execute_result"
    }
   ],
   "source": [
    "# Сначала создадим массив, который будем отсортировывать. Пусть он состоит из 100 целочисленных значений.\n",
    "import numpy as np\n",
    "A = np.random.randint(100, size=100)\n",
    "B, C, D = A, A, A\n",
    "A"
   ]
  },
  {
   "cell_type": "code",
   "execution_count": 2,
   "metadata": {},
   "outputs": [],
   "source": [
    "# Применим алгоритм сортировки выбором (Selection Sort)\n",
    "# NB: индексация идёт с 0\n",
    "\n",
    "def selectionSort(arr):\n",
    "    for i in range(len(arr)): # Для i = по длинне массива (от 0 до n)\n",
    "        smallest = i # установим значение переменной smallest равным i\n",
    "        for j in range(i+1, len(arr)): # Для j = i+1 до n\n",
    "            if arr[j] < arr[smallest]: # Если эл. j меньше эл. smallest\n",
    "                smallest = j # присваиваем переменной smallest значение j\n",
    "     \n",
    "        arr[i], arr[smallest] = arr[smallest], arr[i] # обменять значения элементов массива"
   ]
  },
  {
   "cell_type": "code",
   "execution_count": 3,
   "metadata": {},
   "outputs": [
    {
     "name": "stdout",
     "output_type": "stream",
     "text": [
      "CPU times: user 7 µs, sys: 2 µs, total: 9 µs\n",
      "Wall time: 18.8 µs\n"
     ]
    },
    {
     "data": {
      "text/plain": [
       "array([ 0,  3,  5,  5,  6,  8,  9, 10, 10, 12, 13, 13, 16, 17, 18, 20, 20,\n",
       "       20, 22, 23, 24, 25, 29, 31, 32, 33, 34, 35, 35, 36, 37, 37, 37, 37,\n",
       "       37, 38, 39, 40, 41, 42, 43, 45, 48, 48, 48, 52, 52, 53, 54, 54, 55,\n",
       "       55, 56, 58, 58, 58, 58, 59, 59, 61, 62, 67, 69, 69, 70, 70, 71, 72,\n",
       "       73, 74, 74, 75, 75, 76, 76, 76, 77, 78, 79, 82, 83, 84, 84, 85, 86,\n",
       "       87, 88, 89, 90, 90, 91, 92, 93, 94, 94, 96, 96, 96, 97, 97])"
      ]
     },
     "execution_count": 3,
     "metadata": {},
     "output_type": "execute_result"
    }
   ],
   "source": [
    "%time # Оценим время выполенения\n",
    "selectionSort(B)\n",
    "B"
   ]
  },
  {
   "cell_type": "code",
   "execution_count": 4,
   "metadata": {},
   "outputs": [],
   "source": [
    "# Теперь применим алгоритм сортировки вставкой (Insertion Sort)\n",
    "\n",
    "def insertionSort(arr):\n",
    " \n",
    "    for i in range(1, len(arr)): # Для i = 1 до n\n",
    " \n",
    "        key = arr[i] # присвоим key значение i-го элемента\n",
    " \n",
    "        j = i-1 # присвоим j значение i-1\n",
    "        while j >=0 and arr[j] > key: # Пока j >=0 и arr[j] > key\n",
    "                arr[j+1] = arr[j] # Присвоить arr[j+1] значение arr[j]\n",
    "                j -= 1 # уменьшить j на единицу\n",
    "        arr[j+1] = key # перенесем элемент изначально находившийся в arr[i] на новую позицию"
   ]
  },
  {
   "cell_type": "code",
   "execution_count": 5,
   "metadata": {},
   "outputs": [
    {
     "name": "stdout",
     "output_type": "stream",
     "text": [
      "CPU times: user 7 µs, sys: 2 µs, total: 9 µs\n",
      "Wall time: 18.1 µs\n"
     ]
    },
    {
     "data": {
      "text/plain": [
       "array([ 0,  3,  5,  5,  6,  8,  9, 10, 10, 12, 13, 13, 16, 17, 18, 20, 20,\n",
       "       20, 22, 23, 24, 25, 29, 31, 32, 33, 34, 35, 35, 36, 37, 37, 37, 37,\n",
       "       37, 38, 39, 40, 41, 42, 43, 45, 48, 48, 48, 52, 52, 53, 54, 54, 55,\n",
       "       55, 56, 58, 58, 58, 58, 59, 59, 61, 62, 67, 69, 69, 70, 70, 71, 72,\n",
       "       73, 74, 74, 75, 75, 76, 76, 76, 77, 78, 79, 82, 83, 84, 84, 85, 86,\n",
       "       87, 88, 89, 90, 90, 91, 92, 93, 94, 94, 96, 96, 96, 97, 97])"
      ]
     },
     "execution_count": 5,
     "metadata": {},
     "output_type": "execute_result"
    }
   ],
   "source": [
    "%time\n",
    "insertionSort(C)\n",
    "C"
   ]
  },
  {
   "cell_type": "markdown",
   "metadata": {},
   "source": [
    "# Сортировки при RAM < размер массива"
   ]
  },
  {
   "cell_type": "markdown",
   "metadata": {},
   "source": [
    "__Внешняя сортировка__ — сортировка данных, расположенных на периферийных устройствах и не вмещающихся в оперативную память, то есть когда применить одну из внутренних сортировок невозможно.\n",
    "\n",
    "Используем алгоритм сортировки слиянием."
   ]
  },
  {
   "cell_type": "code",
   "execution_count": 6,
   "metadata": {},
   "outputs": [],
   "source": [
    "# определим функцию merge(массив, начальный, стержневой, конечный индексы),\n",
    "# которая объединяет массив из двух подмассивов\n",
    "\n",
    "def merge(arr, l, m, r):\n",
    "    n1 = m - l + 1\n",
    "    n2 = r- m\n",
    " \n",
    "    # создадим временные массивы\n",
    "    L = [0] * (n1)\n",
    "    R = [0] * (n2)\n",
    " \n",
    "    for i in range(0 , n1):\n",
    "        L[i] = arr[l + i]\n",
    " \n",
    "    for j in range(0 , n2):\n",
    "        R[j] = arr[m + 1 + j]\n",
    " \n",
    "    # сольем подмассивы в единый\n",
    "    i = 0     # первый индекс первого подмассива\n",
    "    j = 0     # первый индекс второго подмассива\n",
    "    k = l     # первый индекс объединенного подмассива\n",
    " \n",
    "    while i < n1 and j < n2 :\n",
    "        if L[i] <= R[j]:\n",
    "            arr[k] = L[i]\n",
    "            i += 1\n",
    "        else:\n",
    "            arr[k] = R[j]\n",
    "            j += 1\n",
    "        k += 1\n",
    " \n",
    "\n",
    "    while i < n1:\n",
    "        arr[k] = L[i]\n",
    "        i += 1\n",
    "        k += 1\n",
    " \n",
    "\n",
    "    while j < n2:\n",
    "        arr[k] = R[j]\n",
    "        j += 1\n",
    "        k += 1\n",
    "\n",
    "        \n",
    "# определим функцию mergeSort(массив, начальный, конечный индексы)\n",
    "\n",
    "def mergeSort(arr,l,r):\n",
    "    if l < r:\n",
    " \n",
    "        # \"Разделяй\" - разделяем arr путем нахождения стержневого индекса\n",
    "        m = (l+(r-1))/2\n",
    " \n",
    "        # \"Властвуй\" - рекурсивно сортируем элементы в каждой половине,\n",
    "        # созданной на этапе \"Разделяй\"\n",
    "        mergeSort(arr, l, m)\n",
    "        mergeSort(arr, m+1, r)\n",
    "        merge(arr, l, m, r)"
   ]
  },
  {
   "cell_type": "code",
   "execution_count": 7,
   "metadata": {},
   "outputs": [
    {
     "data": {
      "text/plain": [
       "array([ 0,  3,  5,  5,  6,  8,  9, 10, 10, 12, 13, 13, 16, 17, 18, 20, 20,\n",
       "       20, 22, 23, 24, 25, 29, 31, 32, 33, 34, 35, 35, 36, 37, 37, 37, 37,\n",
       "       37, 38, 39, 40, 41, 42, 43, 45, 48, 48, 48, 52, 52, 53, 54, 54, 55,\n",
       "       55, 56, 58, 58, 58, 58, 59, 59, 61, 62, 67, 69, 69, 70, 70, 71, 72,\n",
       "       73, 74, 74, 75, 75, 76, 76, 76, 77, 78, 79, 82, 83, 84, 84, 85, 86,\n",
       "       87, 88, 89, 90, 90, 91, 92, 93, 94, 94, 96, 96, 96, 97, 97])"
      ]
     },
     "execution_count": 7,
     "metadata": {},
     "output_type": "execute_result"
    }
   ],
   "source": [
    "n = len(D)\n",
    "mergeSort(D,0,n-1)\n",
    "D"
   ]
  },
  {
   "cell_type": "markdown",
   "metadata": {},
   "source": [
    "Использованная литература: _Кормен, Т._ __Алгоритмы: вводный курс.__ - М., 2016."
   ]
  },
  {
   "cell_type": "code",
   "execution_count": null,
   "metadata": {},
   "outputs": [],
   "source": []
  }
 ],
 "metadata": {
  "kernelspec": {
   "display_name": "Python 2",
   "language": "python",
   "name": "python2"
  },
  "language_info": {
   "codemirror_mode": {
    "name": "ipython",
    "version": 2
   },
   "file_extension": ".py",
   "mimetype": "text/x-python",
   "name": "python",
   "nbconvert_exporter": "python",
   "pygments_lexer": "ipython2",
   "version": "2.7.15"
  }
 },
 "nbformat": 4,
 "nbformat_minor": 2
}
